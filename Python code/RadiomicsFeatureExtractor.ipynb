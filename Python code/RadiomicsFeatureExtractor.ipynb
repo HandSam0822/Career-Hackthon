{
 "cells": [
  {
   "cell_type": "code",
   "execution_count": 5,
   "metadata": {},
   "outputs": [],
   "source": [
    "import os\n",
    "from glob import glob\n",
    "linelist = []\n",
    "for line in glob(os.path.join('sample','*.jpg')):\n",
    "    linelist.append(line)"
   ]
  },
  {
   "cell_type": "code",
   "execution_count": 13,
   "metadata": {},
   "outputs": [
    {
     "data": {
      "image/png": "[encoded data removed]",
      "text/plain": [
       "<Figure size 432x288 with 1 Axes>"
      ]
     },
     "metadata": {
      "needs_background": "light"
     },
     "output_type": "display_data"
    }
   ],
   "source": [
    "for image_dir in linelist:\n",
    "    image_dir = cv2.imread(image_dir)\n",
    "    img = cv2.resize(image_dir,(32,32))\n",
    "    \n",
    "#     plt.imshow(img)"
   ]
  },
  {
   "cell_type": "code",
   "execution_count": null,
   "metadata": {},
   "outputs": [],
   "source": []
  },
  {
   "cell_type": "code",
   "execution_count": 8,
   "metadata": {},
   "outputs": [
    {
     "data": {
      "text/plain": [
       "array([[[121, 144, 152],\n",
       "        [113, 136, 144],\n",
       "        [106, 127, 135],\n",
       "        ...,\n",
       "        [ 99, 114, 117],\n",
       "        [101, 115, 121],\n",
       "        [ 98, 112, 118]],\n",
       "\n",
       "       [[109, 130, 138],\n",
       "        [105, 128, 136],\n",
       "        [ 98, 119, 127],\n",
       "        ...,\n",
       "        [ 71,  83,  89],\n",
       "        [ 90, 102, 108],\n",
       "        [103, 115, 121]],\n",
       "\n",
       "       [[104, 126, 132],\n",
       "        [105, 127, 133],\n",
       "        [102, 123, 131],\n",
       "        ...,\n",
       "        [ 54,  66,  72],\n",
       "        [ 79,  89,  96],\n",
       "        [ 96, 106, 113]],\n",
       "\n",
       "       ...,\n",
       "\n",
       "       [[156, 185, 194],\n",
       "        [143, 174, 183],\n",
       "        [155, 186, 195],\n",
       "        ...,\n",
       "        [ 87, 106, 113],\n",
       "        [ 76,  95, 102],\n",
       "        [ 56,  75,  82]],\n",
       "\n",
       "       [[184, 213, 222],\n",
       "        [172, 200, 211],\n",
       "        [173, 208, 218],\n",
       "        ...,\n",
       "        [121, 140, 147],\n",
       "        [114, 133, 140],\n",
       "        [ 89, 108, 115]],\n",
       "\n",
       "       [[169, 199, 210],\n",
       "        [156, 188, 199],\n",
       "        [169, 201, 212],\n",
       "        ...,\n",
       "        [128, 147, 154],\n",
       "        [130, 149, 156],\n",
       "        [122, 141, 148]]], dtype=uint8)"
      ]
     },
     "execution_count": 8,
     "metadata": {},
     "output_type": "execute_result"
    }
   ],
   "source": [
    "image_dir = aimage_dir[:,:,::-1] #cv2讀入時是bgr，所以要將其反過來"
   ]
  },
  {
   "cell_type": "code",
   "execution_count": 9,
   "metadata": {},
   "outputs": [
    {
     "data": {
      "text/plain": [
       "(1525, 1242, 3)"
      ]
     },
     "execution_count": 9,
     "metadata": {},
     "output_type": "execute_result"
    }
   ],
   "source": [
    "image_dir.shape"
   ]
  },
  {
   "cell_type": "code",
   "execution_count": 1,
   "metadata": {},
   "outputs": [
    {
     "ename": "AttributeError",
     "evalue": "'NoneType' object has no attribute 'shape'",
     "output_type": "error",
     "traceback": [
      "\u001b[0;31m---------------------------------------------------------------------------\u001b[0m",
      "\u001b[0;31mAttributeError\u001b[0m                            Traceback (most recent call last)",
      "\u001b[0;32m<ipython-input-1-4a2ad1a36113>\u001b[0m in \u001b[0;36m<module>\u001b[0;34m\u001b[0m\n\u001b[1;32m     21\u001b[0m \u001b[0;34m\u001b[0m\u001b[0m\n\u001b[1;32m     22\u001b[0m \u001b[0moriginal_image\u001b[0m \u001b[0;34m=\u001b[0m \u001b[0mcv2\u001b[0m\u001b[0;34m.\u001b[0m\u001b[0mimread\u001b[0m\u001b[0;34m(\u001b[0m\u001b[0;34m'after/010.jpg'\u001b[0m\u001b[0;34m,\u001b[0m \u001b[0;36m0\u001b[0m\u001b[0;34m)\u001b[0m\u001b[0;34m\u001b[0m\u001b[0;34m\u001b[0m\u001b[0m\n\u001b[0;32m---> 23\u001b[0;31m \u001b[0mr\u001b[0m\u001b[0;34m,\u001b[0m \u001b[0mc\u001b[0m \u001b[0;34m=\u001b[0m \u001b[0moriginal_image\u001b[0m\u001b[0;34m.\u001b[0m\u001b[0mshape\u001b[0m\u001b[0;34m\u001b[0m\u001b[0;34m\u001b[0m\u001b[0m\n\u001b[0m\u001b[1;32m     24\u001b[0m \u001b[0mcrop_size\u001b[0m \u001b[0;34m=\u001b[0m \u001b[0;36m100\u001b[0m\u001b[0;34m\u001b[0m\u001b[0;34m\u001b[0m\u001b[0m\n",
      "\u001b[0;31mAttributeError\u001b[0m: 'NoneType' object has no attribute 'shape'"
     ]
    }
   ],
   "source": [
    "import numpy as np\n",
    "import random\n",
    "import cv2\n",
    "import matplotlib.pyplot as plt\n",
    "import radiomics\n",
    "import radiomics.featureextractor\n",
    "import radiomics.featureextractor\n",
    "import SimpleITK as sitk\n",
    "\n",
    "# 分類\n",
    "from sklearn.pipeline import Pipeline\n",
    "from sklearn.preprocessing import StandardScaler\n",
    "from sklearn.decomposition import PCA\n",
    "\n",
    "import logging\n",
    "radiomics.logger.setLevel(logging.CRITICAL)\n",
    "\n",
    "extractor = radiomics.featureextractor.RadiomicsFeatureExtractor()\n",
    "extractor.enableAllImageTypes()\n",
    "extractor.settings['force2D'] = True\n",
    "\n",
    "original_image = cv2.imread('after/010.jpg', 0)\n",
    "r, c = original_image.shape\n",
    "crop_size = 100"
   ]
  },
  {
   "cell_type": "code",
   "execution_count": null,
   "metadata": {},
   "outputs": [],
   "source": [
    "#%%\n",
    "fvs = []\n",
    "j=0\n",
    "r_crop_list = np.arange(0, r-crop_size, crop_size)\n",
    "for r_crop in r_crop_list:\n",
    "    if r_crop in [r_crop_list[0], r_crop_list[1], r_crop_list[-1], r_crop_list[-2]]:\n",
    "        c_crop_list = np.arange(0, c-crop_size, crop_size)\n",
    "    # if i==1 or i==2:\n",
    "    # elif r_crop == r-crop_size or r_crop == r-2*crop_size:\n",
    "    #     c_crop_list = np.arange(0, c - crop_size, 100)\n",
    "    else:\n",
    "        c_crop_list = np.array([0,crop_size,c-2*crop_size, c-crop_size])\n",
    "\n",
    "    for c_crop in c_crop_list:\n",
    "        image = sitk.GetImageFromArray(original_image[r_crop:r_crop + crop_size, c_crop:c_crop + crop_size])\n",
    "        if j == 0:\n",
    "            mask_array = np.ones(image.GetSize()[::-1], dtype='int')\n",
    "            mask = sitk.GetImageFromArray(mask_array)\n",
    "            mask.CopyInformation(image)\n",
    "            j=1\n",
    "\n",
    "        # 抓feature\n",
    "        feature_vector = extractor.execute(image, mask)\n",
    "        feature_vector = np.array([v for k, v in feature_vector.items()][22:])\n",
    "        fvs.append(feature_vector)\n",
    "\n",
    "        print(r_crop, c_crop)\n",
    "    # print(i)\n",
    "\n",
    "print(1111111111111)\n",
    "\n",
    "#%% 算\n",
    "std_1_1 = StandardScaler()\n",
    "# pca1 = PCA(n_components=0.9)\n",
    "pca1 = PCA(n_components=1)\n",
    "std_1_2 = StandardScaler()\n",
    "\n",
    "\n",
    "pipeline1 = Pipeline([\n",
    "    ('std_1_1', std_1_1),\n",
    "    ('pca1', pca1),\n",
    "    ('std_1_2', std_1_2),\n",
    "])\n",
    "# pipeline1.fit(fvs)\n",
    "pcafvs = pipeline1.fit_transform(fvs)\n",
    "\n",
    "detect = []\n",
    "# 1400, 2100\n",
    "for r_crop in np.arange(crop_size*2, r - 2*crop_size, crop_size):\n",
    "    for c_crop in np.arange(crop_size*2, c - 2*crop_size, crop_size):\n",
    "\n",
    "        image = sitk.GetImageFromArray(original_image[r_crop:r_crop + crop_size, c_crop:c_crop + crop_size])\n",
    "        # image = original_image[r_crop:r_crop+crop_size, c_crop:c_crop+crop_size]\n",
    "\n",
    "        feature_vector = extractor.execute(image, mask)\n",
    "        feature_vector = np.array([v for k, v in feature_vector.items()][22:])\n",
    "\n",
    "        value = pipeline1.transform(feature_vector.reshape(1, -1))\n",
    "        detect.append(value)\n",
    "\n",
    "        if value < pcafvs.min() or value > pcafvs.max():\n",
    "        # if abs(value) > 3:\n",
    "            print(r_crop, c_crop, value)\n",
    "\n",
    "\n",
    "# ddd = original_image[1500:1500 + crop_size, 1400:1400 + crop_size]\n",
    "# feature_vector = extractor.execute(sitk.GetImageFromArray(ddd), mask)\n",
    "# feature_vector = np.array([v for k, v in feature_vector.items()][22:])\n",
    "# value = pipeline1.transform(feature_vector.reshape(1, -1))"
   ]
  }
 ],
 "metadata": {
  "hide_input": false,
  "kernelspec": {
   "display_name": "Python 3",
   "language": "python",
   "name": "python3"
  },
  "language_info": {
   "codemirror_mode": {
    "name": "ipython",
    "version": 3
   },
   "file_extension": ".py",
   "mimetype": "text/x-python",
   "name": "python",
   "nbconvert_exporter": "python",
   "pygments_lexer": "ipython3",
   "version": "3.6.3"
  },
  "toc": {
   "base_numbering": 1,
   "nav_menu": {},
   "number_sections": true,
   "sideBar": true,
   "skip_h1_title": false,
   "title_cell": "Table of Contents",
   "title_sidebar": "Contents",
   "toc_cell": false,
   "toc_position": {},
   "toc_section_display": true,
   "toc_window_display": false
  },
  "varInspector": {
   "cols": {
    "lenName": 16,
    "lenType": 16,
    "lenVar": 40
   },
   "kernels_config": {
    "python": {
     "delete_cmd_postfix": "",
     "delete_cmd_prefix": "del ",
     "library": "var_list.py",
     "varRefreshCmd": "print(var_dic_list())"
    },
    "r": {
     "delete_cmd_postfix": ") ",
     "delete_cmd_prefix": "rm(",
     "library": "var_list.r",
     "varRefreshCmd": "cat(var_dic_list()) "
    }
   },
   "types_to_exclude": [
    "module",
    "function",
    "builtin_function_or_method",
    "instance",
    "_Feature"
   ],
   "window_display": false
  }
 },
 "nbformat": 4,
 "nbformat_minor": 2
}
