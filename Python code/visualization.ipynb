{
 "cells": [
  {
   "cell_type": "code",
   "execution_count": 1,
   "metadata": {},
   "outputs": [],
   "source": [
    "import cv2\n",
    "import numpy as np\n",
    "import pandas as pd\n",
    "from tqdm import tqdm\n",
    "import os, sys\n",
    "from glob import glob\n",
    "import json"
   ]
  },
  {
   "cell_type": "code",
   "execution_count": 2,
   "metadata": {},
   "outputs": [],
   "source": [
    "images_dirs = [ line.strip() for line in glob(os.path.join('sample','*.jpg'))]\n",
    "df_labels = pd.read_csv(\"label.csv\").set_index(\"filename\")"
   ]
  },
  {
   "cell_type": "code",
   "execution_count": null,
   "metadata": {},
   "outputs": [],
   "source": [
    "# folder = os.path.join(\"colorspace\",\"HSV\")\n",
    "# if not os.path.exists(folder):\n",
    "#     os.mkdirs(folder)\n",
    "scale_percent = 20 # percent of original size\n",
    "\n",
    "for images_dir in images_dirs:\n",
    "    frame = cv2.imread(images_dir)\n",
    "    \n",
    "#     (xmin, ymin, xmax, ymax) = df_labels.loc[os.path.basename(images_dir)]\n",
    "#     if not np.isnan(xmin):\n",
    "#         frame = cv2.rectangle(frame, (int(xmin), int(ymin)), (int(xmax), int(ymax)), (0,0,255), 10) \n",
    "    frame = cv2.cvtColor(frame, cv2.COLOR_BGR2HSV_FULL)\n",
    "    width = int(frame.shape[1] * scale_percent / 100)\n",
    "    height = int(frame.shape[0] * scale_percent / 100)\n",
    "    frame = cv2.resize(frame,(width, height))\n",
    "    cv2.imshow(\"demo\", frame)\n",
    "    if cv2.waitKey(0) ==27:\n",
    "        break\n",
    "\n",
    "cv2.destroyAllWindows()"
   ]
  },
  {
   "cell_type": "code",
   "execution_count": 9,
   "metadata": {},
   "outputs": [],
   "source": [
    "# folder = os.path.join(\"colorspace\",\"HLS\")\n",
    "# if not os.path.exists(folder):\n",
    "#     os.mkdir(folder)\n",
    "scale_percent = 20 # percent of original size\n",
    "\n",
    "for images_dir in images_dirs:\n",
    "    frame = cv2.imread(images_dir)\n",
    "    \n",
    "    frame = cv2.cvtColor(frame, cv2.COLOR_BGR2HLS_FULL)\n",
    "\n",
    "    (xmin, ymin, xmax, ymax) = df_labels.loc[os.path.basename(images_dir)]\n",
    "    if not np.isnan(xmin):\n",
    "        frame = cv2.rectangle(frame, (int(xmin), int(ymin)), (int(xmax), int(ymax)), (0,0,255), 10) \n",
    "    width = int(frame.shape[1] * scale_percent / 100)\n",
    "    height = int(frame.shape[0] * scale_percent / 100)\n",
    "    frame = cv2.resize(frame,(width, height))\n",
    "    cv2.imwrite(os.path.join(folder, os.path.basename(images_dir)), frame)\n",
    "    cv2.imshow(\"demo\", frame)\n",
    "    if cv2.waitKey(0) ==27:\n",
    "        break\n",
    "\n"
   ]
  },
  {
   "cell_type": "code",
   "execution_count": null,
   "metadata": {},
   "outputs": [],
   "source": []
  }
 ],
 "metadata": {
  "hide_input": false,
  "kernelspec": {
   "display_name": "Python 3",
   "language": "python",
   "name": "python3"
  },
  "language_info": {
   "codemirror_mode": {
    "name": "ipython",
    "version": 3
   },
   "file_extension": ".py",
   "mimetype": "text/x-python",
   "name": "python",
   "nbconvert_exporter": "python",
   "pygments_lexer": "ipython3",
   "version": "3.6.3"
  },
  "toc": {
   "base_numbering": 1,
   "nav_menu": {},
   "number_sections": true,
   "sideBar": true,
   "skip_h1_title": false,
   "title_cell": "Table of Contents",
   "title_sidebar": "Contents",
   "toc_cell": false,
   "toc_position": {},
   "toc_section_display": true,
   "toc_window_display": false
  },
  "varInspector": {
   "cols": {
    "lenName": 16,
    "lenType": 16,
    "lenVar": 40
   },
   "kernels_config": {
    "python": {
     "delete_cmd_postfix": "",
     "delete_cmd_prefix": "del ",
     "library": "var_list.py",
     "varRefreshCmd": "print(var_dic_list())"
    },
    "r": {
     "delete_cmd_postfix": ") ",
     "delete_cmd_prefix": "rm(",
     "library": "var_list.r",
     "varRefreshCmd": "cat(var_dic_list()) "
    }
   },
   "types_to_exclude": [
    "module",
    "function",
    "builtin_function_or_method",
    "instance",
    "_Feature"
   ],
   "window_display": false
  }
 },
 "nbformat": 4,
 "nbformat_minor": 4
}
